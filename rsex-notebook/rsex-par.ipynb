{
 "cells": [
  {
   "cell_type": "code",
   "execution_count": 3,
   "metadata": {},
   "outputs": [],
   "source": [
    ":dep arrow = \"4.3.0\"\n",
    ":dep rayon = \"1.5.1\""
   ]
  },
  {
   "cell_type": "code",
   "execution_count": 4,
   "metadata": {},
   "outputs": [],
   "source": [
    "use std::fs::File;\n",
    "use arrow::csv;\n",
    "use arrow::array::{Array, Float64Array};\n",
    "use rayon::prelude::*;"
   ]
  },
  {
   "cell_type": "code",
   "execution_count": 5,
   "metadata": {},
   "outputs": [],
   "source": [
    "const FRAME_SIZE: usize = 300;\n",
    "const RATIO: f64 = 11.1;"
   ]
  },
  {
   "cell_type": "code",
   "execution_count": 6,
   "metadata": {},
   "outputs": [],
   "source": [
    "fn is_fake_max_age(age: &Float64Array, i: usize) -> bool {\n",
    "    let mut is_max = true;\n",
    "    for j in (i + 1)..(i + 1 + FRAME_SIZE).min(age.len()) {\n",
    "\tif !age.is_null(j) && !age.is_null(i) &&\n",
    "\t    age.value(j) > age.value(i) * RATIO {\n",
    "\t\tis_max = false;\n",
    "\t\tbreak\n",
    "\t}\n",
    "    }\n",
    "    is_max\n",
    "}"
   ]
  },
  {
   "cell_type": "code",
   "execution_count": 16,
   "metadata": {},
   "outputs": [],
   "source": [
    "let input_path = \"../confirmed-cases.csv\";\n",
    "let input_file = File::open(input_path).unwrap();\n",
    "let builder = csv::ReaderBuilder::new()\n",
    "    .infer_schema(Some(134000))\n",
    "    .has_header(true)\n",
    "    .with_batch_size(1000000);\n",
    "let mut reader = builder.build(input_file).unwrap();\n",
    "let batch = reader.next().unwrap().unwrap();"
   ]
  },
  {
   "cell_type": "code",
   "execution_count": 25,
   "metadata": {},
   "outputs": [],
   "source": [
    "let age_i = batch.schema().index_of(\"age\").unwrap();\n",
    "let max_age: Vec<_> = (0..batch.column(age_i).len()).collect::<Vec<usize>>()\n",
    "    .into_par_iter()\n",
    "    .map(|i| is_fake_max_age(batch.column(age_i).as_any().downcast_ref::<Float64Array>().unwrap(), i))\n",
    "    .collect();"
   ]
  },
  {
   "cell_type": "code",
   "execution_count": 26,
   "metadata": {},
   "outputs": [
    {
     "name": "stdout",
     "output_type": "stream",
     "text": [
      "236060 true\n"
     ]
    },
    {
     "data": {
      "text/plain": [
       "()"
      ]
     },
     "execution_count": 26,
     "metadata": {},
     "output_type": "execute_result"
    }
   ],
   "source": [
    "println!(\"{} {}\", max_age.len(), max_age[10000])"
   ]
  }
 ],
 "metadata": {
  "kernelspec": {
   "display_name": "Rust",
   "language": "rust",
   "name": "rust"
  },
  "language_info": {
   "codemirror_mode": "rust",
   "file_extension": ".rs",
   "mimetype": "text/rust",
   "name": "Rust",
   "pygment_lexer": "rust",
   "version": ""
  }
 },
 "nbformat": 4,
 "nbformat_minor": 4
}
